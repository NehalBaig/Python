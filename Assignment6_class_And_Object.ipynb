{
  "nbformat": 4,
  "nbformat_minor": 0,
  "metadata": {
    "kernelspec": {
      "display_name": "Python 3",
      "language": "python",
      "name": "python3"
    },
    "language_info": {
      "codemirror_mode": {
        "name": "ipython",
        "version": 3
      },
      "file_extension": ".py",
      "mimetype": "text/x-python",
      "name": "python",
      "nbconvert_exporter": "python",
      "pygments_lexer": "ipython3",
      "version": "3.7.4"
    },
    "colab": {
      "name": "OOP.ipynb",
      "provenance": [],
      "collapsed_sections": []
    }
  },
  "cells": [
    {
      "cell_type": "markdown",
      "metadata": {
        "id": "cwgeFzfH_beR",
        "colab_type": "text"
      },
      "source": [
        "Assignment # 6 \n",
        "Class and Object"
      ]
    },
    {
      "cell_type": "code",
      "metadata": {
        "id": "PEKu9ukU_fvn",
        "colab_type": "code",
        "colab": {
          "base_uri": "https://localhost:8080/",
          "height": 196
        },
        "outputId": "cf91f1d4-97a1-4e2e-9b49-c6badc3b81fd"
      },
      "source": [
        "# Class and Object\n",
        "class Car():\n",
        "\n",
        "    def __init__(self, name):\n",
        "        self.name = name\n",
        "        self.carspeed = 10\n",
        "        self.wheelTurn = \" \"\n",
        "        self.gear = 1\n",
        "\n",
        "    def getCarDetails(self):\n",
        "        print(\n",
        "            f\"\\nCar's Name : {self.name}. \\nCar's Speed : {self.carspeed}.  \\nCar's Gear {self.gear}. \\nWheel's Rotate : {self.wheelTurn} \")\n",
        "\n",
        "    def shiftGear(self, newGear):\n",
        "        self.gear = newGear\n",
        "\n",
        "    def accelarateSpeed(self, accelarate):\n",
        "        self.carspeed =  self.carspeed+accelarate\n",
        "\n",
        "    def turnWheel(self,Direction):\n",
        "        self.wheelTurn = Direction\n",
        "\n",
        "car_Honda = Car('HONDA')\n",
        "car_Honda.getCarDetails()\n",
        "\n",
        "car_Honda.turnWheel('Right')\n",
        "car_Honda.accelarateSpeed(20)\n",
        "car_Honda.shiftGear(2)\n",
        "car_Honda.getCarDetails()\n"
      ],
      "execution_count": 40,
      "outputs": [
        {
          "output_type": "stream",
          "text": [
            "\n",
            "Car's Name : HONDA. \n",
            "Car's Speed : 10.  \n",
            "Car's Gear 1. \n",
            "Wheel's Rotate :   \n",
            "\n",
            "Car's Name : HONDA. \n",
            "Car's Speed : 30.  \n",
            "Car's Gear 2. \n",
            "Wheel's Rotate : Right \n"
          ],
          "name": "stdout"
        }
      ]
    }
  ]
}